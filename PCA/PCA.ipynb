{
 "cells": [
  {
   "cell_type": "code",
   "execution_count": 1,
   "id": "f0694b34-c6f1-414b-9d25-f45022ca0ee7",
   "metadata": {},
   "outputs": [],
   "source": [
    "import pandas as pd\n",
    "import numpy as np\n",
    "from sklearn.decomposition import PCA"
   ]
  },
  {
   "cell_type": "code",
   "execution_count": 3,
   "id": "8ea3c705-b577-48d7-95ec-c8ea429283ff",
   "metadata": {},
   "outputs": [
    {
     "name": "stdout",
     "output_type": "stream",
     "text": [
      "    X   Y\n",
      "0   4  11\n",
      "1   8   4\n",
      "2  13   5\n",
      "3   7  14\n"
     ]
    }
   ],
   "source": [
    "csv_filename = 'PCA1.csv'\n",
    "df = pd.read_csv(csv_filename)\n",
    "\n",
    "print(df.head())"
   ]
  },
  {
   "cell_type": "code",
   "execution_count": 4,
   "id": "83dba36c-d770-4a7d-93ae-66921b211c04",
   "metadata": {},
   "outputs": [
    {
     "name": "stdout",
     "output_type": "stream",
     "text": [
      "Number of Features: 2\n",
      "Number of Samples: 4\n"
     ]
    }
   ],
   "source": [
    "num_rows, num_columns = df.shape\n",
    "print(\"Number of Features:\", num_columns)\n",
    "print(\"Number of Samples:\", num_rows)"
   ]
  },
  {
   "cell_type": "code",
   "execution_count": 5,
   "id": "53c950e5-e8e6-4c79-878a-981d6cf86b68",
   "metadata": {},
   "outputs": [
    {
     "name": "stdout",
     "output_type": "stream",
     "text": [
      "Mean of feature (X): 8.0\n"
     ]
    }
   ],
   "source": [
    "featuredata = [4,8,13,7]\n",
    "mean_x = np.mean(featuredata)\n",
    "print(\"Mean of feature (X):\", mean_x)"
   ]
  },
  {
   "cell_type": "code",
   "execution_count": 6,
   "id": "139d2cac-a2d5-4656-8635-cfc014f8104d",
   "metadata": {},
   "outputs": [
    {
     "name": "stdout",
     "output_type": "stream",
     "text": [
      "Mean of sample (Y): 8.5\n"
     ]
    }
   ],
   "source": [
    "sampledata = [11,4,5,14]\n",
    "mean_y = np.mean(sampledata)\n",
    "print(\"Mean of sample (Y):\", mean_y)"
   ]
  },
  {
   "cell_type": "code",
   "execution_count": 7,
   "id": "7796ad66-64b1-43cf-9099-727d2517560f",
   "metadata": {},
   "outputs": [
    {
     "name": "stdout",
     "output_type": "stream",
     "text": [
      "Covariance Matrix :\n",
      "[[ 14. -11.]\n",
      " [-11.  23.]]\n"
     ]
    }
   ],
   "source": [
    "\n",
    "# Compute the covariance matrix\n",
    "X = np.array([4,8,13,7])\n",
    "Y = np.array([11,4,5,14])\n",
    "\n",
    "covariance_matrix = np.cov(X, Y)\n",
    "\n",
    "print(\"Covariance Matrix :\")\n",
    "print(covariance_matrix)"
   ]
  },
  {
   "cell_type": "code",
   "execution_count": 8,
   "id": "a490f116-7f8f-4d5a-9091-002558258d9a",
   "metadata": {},
   "outputs": [
    {
     "name": "stdout",
     "output_type": "stream",
     "text": [
      "Eigenvalues:\n",
      "[ 6.61513568 30.38486432]\n",
      "\n",
      "Eigenvectors:\n",
      "[[-0.83025082  0.55738997]\n",
      " [-0.55738997 -0.83025082]]\n",
      "\n",
      "Normalized Eigenvectors:\n",
      "[[-0.83025082  0.55738997]\n",
      " [-0.55738997 -0.83025082]]\n"
     ]
    }
   ],
   "source": [
    "\n",
    "eigenvalues, eigenvectors = np.linalg.eig(covariance_matrix)\n",
    "normalized_eigenvectors = eigenvectors / np.linalg.norm(eigenvectors, axis=0)\n",
    "\n",
    "print(\"Eigenvalues:\")\n",
    "print(eigenvalues)\n",
    "\n",
    "print(\"\\nEigenvectors:\")\n",
    "print(eigenvectors)\n",
    "\n",
    "print(\"\\nNormalized Eigenvectors:\")\n",
    "print(normalized_eigenvectors)"
   ]
  },
  {
   "cell_type": "code",
   "execution_count": 10,
   "id": "4dba1d0b-0c21-4329-84ba-0b9ab06ada6b",
   "metadata": {},
   "outputs": [
    {
     "data": {
      "text/plain": [
       "array([[-4. ,  0. ,  5. , -1. ],\n",
       "       [ 2.5, -4.5, -3.5,  5.5]])"
      ]
     },
     "execution_count": 10,
     "metadata": {},
     "output_type": "execute_result"
    }
   ],
   "source": [
    "\n",
    "x = np.array([4,8,13,7])\n",
    "y = np.array([11, 4,5,14])\n",
    "xy = np.concatenate(([x-mean_x],[y-mean_y]), axis=0)\n",
    "xy"
   ]
  },
  {
   "cell_type": "code",
   "execution_count": null,
   "id": "3faa5f19-e84d-4c4d-b338-f46e43861e12",
   "metadata": {},
   "outputs": [],
   "source": []
  }
 ],
 "metadata": {
  "kernelspec": {
   "display_name": "Python 3 (ipykernel)",
   "language": "python",
   "name": "python3"
  },
  "language_info": {
   "codemirror_mode": {
    "name": "ipython",
    "version": 3
   },
   "file_extension": ".py",
   "mimetype": "text/x-python",
   "name": "python",
   "nbconvert_exporter": "python",
   "pygments_lexer": "ipython3",
   "version": "3.10.2"
  }
 },
 "nbformat": 4,
 "nbformat_minor": 5
}
